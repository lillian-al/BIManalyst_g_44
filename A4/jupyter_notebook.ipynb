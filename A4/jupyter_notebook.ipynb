{
 "cells": [
  {
   "cell_type": "markdown",
   "id": "231e081f",
   "metadata": {},
   "source": [
    "# Extracting IFC Element Properties: A Guide to Accessing Column Volumes with ifcopenshell\n",
    "### **Overview**\n",
    "\n",
    "In this tutorial, we'll cover how to use `ifcopenshell` to access element properties in an IFC file. Specifically, we’ll focus on extracting and calculating the total volume of columns in a building model. This guide is valuable for anyone looking to analyze IFC files for design, estimation, or building information modeling (BIM) purposes.\n"
   ]
  },
  {
   "cell_type": "markdown",
   "id": "a116f17e",
   "metadata": {},
   "source": [
    "### **What you will learn**\n",
    "\n",
    "- Loading an IFC file into a Python environment\n",
    "- Retrieving specific elements (e.g., columns) from the model\n",
    "- Accessing and calculating properties, such as total volume, of these elements\n",
    "- Understanding how properties are stored in property sets\n"
   ]
  },
  {
   "cell_type": "markdown",
   "id": "69b7e51e",
   "metadata": {},
   "source": [
    "### **1. Set Up the Environment**"
   ]
  },
  {
   "cell_type": "code",
   "execution_count": 10,
   "id": "9da4cab1",
   "metadata": {},
   "outputs": [],
   "source": [
    "# Import required libraries\n",
    "import ifcopenshell\n",
    "from pathlib import Path\n"
   ]
  },
  {
   "cell_type": "markdown",
   "id": "19a88408",
   "metadata": {},
   "source": [
    "- **ifcopenshell**: Provides tools to work with IFC files, allowing access to building model data.\n",
    "- **Path (from pathlib)**: Offers a convenient way to handle file paths.\n"
   ]
  },
  {
   "cell_type": "markdown",
   "id": "6036aec6",
   "metadata": {},
   "source": [
    "### **2. Load the IFC Model File**"
   ]
  },
  {
   "cell_type": "code",
   "execution_count": 11,
   "id": "feeb6a58",
   "metadata": {},
   "outputs": [
    {
     "name": "stdout",
     "output_type": "stream",
     "text": [
      "IFC model successfully loaded!\n"
     ]
    }
   ],
   "source": [
    "# Load the IFC file\n",
    "model_path = Path(r\"C:\\Users\\lilli\\OneDrive\\Desktop\\DTU\\Kandidat\\OpenBIM\\CES_BLD_24_06_STR.ifc\")\n",
    "if not model_path.is_file():\n",
    "    raise FileNotFoundError(f\"No file found at {model_path}!\")\n",
    "\n",
    "# Load the IFC model\n",
    "model = ifcopenshell.open(model_path)\n",
    "print(\"IFC model successfully loaded!\")\n"
   ]
  },
  {
   "cell_type": "markdown",
   "id": "cc96b840",
   "metadata": {},
   "source": [
    "- **User Input for Model Path**: Prompts the user to input a path to the IFC model file. Defaults to a predefined location if no input is provided.\n",
    "- **ifcopenshell.open**: Opens the IFC model file for analysis.\n"
   ]
  },
  {
   "cell_type": "markdown",
   "id": "5e21fde7",
   "metadata": {},
   "source": [
    "### **3. Retrieve Specific IFC Elements (Columns) from the Model**"
   ]
  },
  {
   "cell_type": "code",
   "execution_count": 12,
   "id": "49ba8d63",
   "metadata": {},
   "outputs": [
    {
     "name": "stdout",
     "output_type": "stream",
     "text": [
      "Number of columns found: 764\n"
     ]
    }
   ],
   "source": [
    "# Retrieve all columns in the model\n",
    "columns = model.by_type(\"IfcColumn\")\n",
    "print(f\"Number of columns found: {len(columns)}\")\n"
   ]
  },
  {
   "cell_type": "markdown",
   "id": "de07e717",
   "metadata": {},
   "source": [
    "- **columns**: Retrieves and stores all instances of `IfcColumn` from the IFC model.\n"
   ]
  },
  {
   "cell_type": "markdown",
   "id": "c7aefb24",
   "metadata": {},
   "source": [
    "### **4. Access and Sum Column Volumes**"
   ]
  },
  {
   "cell_type": "code",
   "execution_count": 13,
   "id": "ca4a5dbb",
   "metadata": {},
   "outputs": [
    {
     "name": "stdout",
     "output_type": "stream",
     "text": [
      "Total volume of all columns: 601.66 cubic meters\n"
     ]
    }
   ],
   "source": [
    "# Initialize total volume for columns\n",
    "total_volume = 0.0\n",
    "\n",
    "for column in columns:\n",
    "    volume = None  # Initialize volume as None in case it’s not found\n",
    "\n",
    "    # Access all property sets associated with the column\n",
    "    for definition in column.IsDefinedBy:\n",
    "        if definition.is_a(\"IfcRelDefinesByProperties\"):\n",
    "            property_set = definition.RelatingPropertyDefinition\n",
    "\n",
    "            # Check if the property set is of type IfcPropertySet\n",
    "            if property_set.is_a(\"IfcPropertySet\"):\n",
    "                # Iterate through properties in the set\n",
    "                for prop in property_set.HasProperties:\n",
    "                    if prop.Name == \"Volume\":\n",
    "                        # Get the volume value if available\n",
    "                        volume = prop.NominalValue.wrappedValue if prop.NominalValue else None\n",
    "                        break\n",
    "            if volume is not None:\n",
    "                break  # Exit if volume is found\n",
    "\n",
    "    # Add the volume to the total if available\n",
    "    if volume is not None:\n",
    "        total_volume += volume\n",
    "\n",
    "print(f\"Total volume of all columns: {total_volume:.2f} cubic meters\")\n"
   ]
  },
  {
   "cell_type": "markdown",
   "id": "952be19a",
   "metadata": {},
   "source": [
    "- **Property Sets**: IFC properties are stored in `IfcPropertySet`. We iterate through each column’s properties to find the \"Volume\" attribute.\n",
    "- **Volume Calculation**: The total volume is calculated by summing the volume property of each column.\n"
   ]
  },
  {
   "cell_type": "markdown",
   "id": "33c6ff71",
   "metadata": {},
   "source": [
    "### **Further Steps**\n",
    "- **Classify Elements**: Group columns (or other elements) based on property values, such as their size or material type.\n",
    "- **Calculate Costs**: Multiply the volume by the cost per cubic meter to estimate material costs for the columns.\n",
    "- **Analyze Specific Column Types**: Modify the script to calculate the volume separately for different column types by categorizing columns based on their attributes.\n"
   ]
  },
  {
   "cell_type": "markdown",
   "id": "fd0efb94",
   "metadata": {},
   "source": [
    "### **Conclusion**\n",
    "This guide demonstrates how to extract the volume property from columns in an IFC file using ifcopenshell. By understanding how to locate and access properties within IfcPropertySet, you can retrieve various data points from your IFC model, enabling deeper insights into your building’s structure and elements.\n",
    "This method is adaptable to many other element types and properties, making it a versatile skill in BIM analysis. With these techniques, you can perform detailed analysis, generate estimates, and optimize resources in construction projects.\n",
    "By categorizing columns into types and analyzing their properties further, you can enhance the accuracy of your building analysis and contribute to better-informed design and construction decisions."
   ]
  }
 ],
 "metadata": {
  "kernelspec": {
   "display_name": "Python 3 (ipykernel)",
   "language": "python",
   "name": "python3"
  },
  "language_info": {
   "codemirror_mode": {
    "name": "ipython",
    "version": 3
   },
   "file_extension": ".py",
   "mimetype": "text/x-python",
   "name": "python",
   "nbconvert_exporter": "python",
   "pygments_lexer": "ipython3",
   "version": "3.9.13"
  }
 },
 "nbformat": 4,
 "nbformat_minor": 5
}
